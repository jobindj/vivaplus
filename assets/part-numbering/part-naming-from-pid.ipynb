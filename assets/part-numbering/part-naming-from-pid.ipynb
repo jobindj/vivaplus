{
 "cells": [
  {
   "cell_type": "code",
   "execution_count": null,
   "metadata": {},
   "outputs": [],
   "source": [
    "import numpy as np\n",
    "import pandas as pd\n",
    "import math"
   ]
  },
  {
   "cell_type": "code",
   "execution_count": null,
   "metadata": {},
   "outputs": [],
   "source": [
    "# Path to the csv file\n",
    "path=\"700000-lower-extremity/\"\n",
    "file=\"704000-Lower-Extremity-Feet\""
   ]
  },
  {
   "cell_type": "code",
   "execution_count": null,
   "metadata": {},
   "outputs": [],
   "source": [
    "# Read the csv file\n",
    "data = pd.read_csv(path+file+\".csv\")\n",
    "#data = pd.read_csv(\"../part-numbering/600000-Pelvis/601000-Pelvis-Bones.csv\") \n",
    "num_of_rows=data.shape[0]"
   ]
  },
  {
   "cell_type": "code",
   "execution_count": null,
   "metadata": {},
   "outputs": [],
   "source": [
    "# Check first few rows\n",
    "data.head()\n",
    "# Check the whole table\n",
    "# data"
   ]
  },
  {
   "cell_type": "code",
   "execution_count": null,
   "metadata": {},
   "outputs": [],
   "source": [
    "pid = 0\n",
    "name = ''\n"
   ]
  },
  {
   "cell_type": "code",
   "execution_count": null,
   "metadata": {},
   "outputs": [],
   "source": [
    "# FIXME: Error while opening some csv files\n",
    "# the type of for loop iter variable for PID (e.g. fi1) should be int,\n",
    "# sometimes ends up as string (for some CSV files. \n",
    "# The PID values are not computed then.\n",
    "# include type conversion?"
   ]
  },
  {
   "cell_type": "code",
   "execution_count": null,
   "metadata": {},
   "outputs": [],
   "source": [
    "dic = {}\n",
    "for n in range(num_of_rows):\n",
    "        if pd.notna(data.iloc[n,0]):\n",
    "            first = data.iloc[n,0]\n",
    "            body_region = str(data.iloc[n,6])\n",
    "            \n",
    "            second = []\n",
    "            third = []\n",
    "            fourth = []\n",
    "            fifth = []\n",
    "            sixth = []\n",
    "            \n",
    "            sagittal_aspect = []\n",
    "            third_name = []\n",
    "            fourth_name = []\n",
    "            fifth_name = []\n",
    "            sixth_name = []\n",
    "            continue\n",
    "            \n",
    "        if pd.notna(data.iloc[n,1]):\n",
    "            second.append(int(data.iloc[n,1]))\n",
    "            sagittal_aspect.append(str(data.iloc[n,6]))\n",
    "            #print(second,sagittal_aspect)\n",
    "            continue\n",
    "            \n",
    "        if pd.notna(data.iloc[n,2]):\n",
    "            third.append(int(data.iloc[n,2]))\n",
    "            #if pd.notna(data.iloc[n,6]):\n",
    "            third_name.append(str(data.iloc[n,6]))\n",
    "            continue\n",
    "            \n",
    "        if pd.notna(data.iloc[n,3]):\n",
    "            fourth.append(int(data.iloc[n,3]))\n",
    "            #if pd.notna(data.iloc[n,6]):\n",
    "            fourth_name.append(str(data.iloc[n,6]))\n",
    "            continue\n",
    "            \n",
    "        if pd.notna(data.iloc[n,4]):\n",
    "            fifth.append(int(data.iloc[n,4]))\n",
    "            #if pd.notna(data.iloc[n,6]):\n",
    "            fifth_name.append(str(data.iloc[n,6]))\n",
    "            continue\n",
    "            \n",
    "        if pd.notna(data.iloc[n,5]):\n",
    "            sixth.append(int(data.iloc[n,5]))\n",
    "            sixth_name.append(str(data.iloc[n,6]))\n",
    "            #print(sixth,sixth_name)\n",
    "            \n",
    "# Loop through the list to create PID and PID names\n",
    "# Takes the digits and corresponding names in the csv and writes them to a dictionary\n",
    "\n",
    "for s1,s2 in zip(second,sagittal_aspect):\n",
    "    for t1,t2 in zip(third,third_name):\n",
    "        for fi1,fi2 in zip(fifth,fifth_name):\n",
    "            # Check if the fourth place in the csv is empty\n",
    "            if fourth == []:\n",
    "                # Check if the sixth place in the csv is empty\n",
    "                if sixth == []:\n",
    "                    \n",
    "                    # print(s1,t1,fi1,s2,t2,fi2)\n",
    "                                #if math.isnan(si1):\n",
    "                                    #si1=0\n",
    "                \n",
    "                                #if math.isnan(f1):\n",
    "                    pid = int(first*10**5 + s1*10**4 + t1*10**3 + fi1*10)    \n",
    "                    name = body_region + '-' + str(t2) + '-' + str(fi2) + '-'  + str(s2)\n",
    "                    dic[pid]= name\n",
    "                                #else:\n",
    "                                   # pid = int(first*10**5 + s1*10**4 + t1*10**3 + f1*100 + fi1*10 +si1)    \n",
    "                                    #name = body_region + '-' + str(t2) + '-' + str(f2) + '-'+ str(fi2) + '-' + str(si2) + '-' + str(s2)\n",
    "                                   #dic[pid]= name\n",
    "                else:\n",
    "                    for si1,si2 in zip(sixth,sixth_name):\n",
    "                        print(3)\n",
    "                        print(s1,t1,fi1,si1,s2,t2,fi2,si2)\n",
    "                        pid = int(first*10**5 + s1*10**4 + t1*10**3 + fi1*10 + si1)    \n",
    "                        name = body_region + '-' + str(t2) + '-' + str(fi2) + '-' + str(si2) + '-' + str(s2)\n",
    "                        dic[pid]= name\n",
    "            # Actions if the fourth place is not empty            \n",
    "            else:    \n",
    "                for f1,f2 in zip(fourth,fourth_name):\n",
    "                    # Check if the sixth place is empty\n",
    "                    if sixth == []:\n",
    "                    \n",
    "                        #print(s1,t1,f1,fi1,s2,t2,f2,fi2)\n",
    "                                #if math.isnan(si1):\n",
    "                                    #si1=0\n",
    "                \n",
    "                                #if math.isnan(f1):\n",
    "                        pid = int(first*10**5 + s1*10**4 + t1*10**3 + f1*100 + fi1*10)    \n",
    "                        name = body_region + '-' + str(t2) + '-' + str(f2) + '-' + str(fi2) + '-'  + str(s2)\n",
    "                        dic[pid]= name\n",
    "                                #else:\n",
    "                                   # pid = int(first*10**5 + s1*10**4 + t1*10**3 + f1*100 + fi1*10 +si1)    \n",
    "                                    #name = body_region + '-' + str(t2) + '-' + str(f2) + '-'+ str(fi2) + '-' + str(si2) + '-' + str(s2)\n",
    "                                   #dic[pid]= name\n",
    "                    else:\n",
    "                        for si1,si2 in zip(sixth,sixth_name):\n",
    "                            print(6)\n",
    "                            print(s1,t1,f1,fi1,si1,s2,t2,f2,fi2,si2)\n",
    "                            pid = int(first*10**5 + s1*10**4 + t1*10**3 + fi1*10 +si1)    \n",
    "                            name = body_region + '-' + str(t2) + '-' + str(f2) + '-' + str(fi2) + '-' + str(si2) + '-' + str(s2)\n",
    "                            dic[pid]= name\n",
    "                    \n",
    "                                    \n",
    "#print (dic)\n",
    "                \n",
    "                \n",
    "          "
   ]
  },
  {
   "cell_type": "code",
   "execution_count": null,
   "metadata": {},
   "outputs": [],
   "source": [
    "# Output the dictionary values to a csv\n",
    "(pd.DataFrame.from_dict(data=dic, orient='index')\n",
    "     .to_csv(path+file+\"-PID-PIDName\" + \".csv\", header=False))"
   ]
  },
  {
   "cell_type": "code",
   "execution_count": null,
   "metadata": {},
   "outputs": [],
   "source": []
  },
  {
   "cell_type": "code",
   "execution_count": null,
   "metadata": {},
   "outputs": [],
   "source": []
  },
  {
   "cell_type": "code",
   "execution_count": null,
   "metadata": {},
   "outputs": [],
   "source": []
  }
 ],
 "metadata": {
  "kernelspec": {
   "display_name": "Python 3",
   "language": "python",
   "name": "python3"
  },
  "language_info": {
   "codemirror_mode": {
    "name": "ipython",
    "version": 3
   },
   "file_extension": ".py",
   "mimetype": "text/x-python",
   "name": "python",
   "nbconvert_exporter": "python",
   "pygments_lexer": "ipython3",
   "version": "3.7.3"
  }
 },
 "nbformat": 4,
 "nbformat_minor": 4
}
