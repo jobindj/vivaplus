{
 "cells": [
  {
   "cell_type": "code",
   "execution_count": null,
   "metadata": {},
   "outputs": [],
   "source": [
    "import numpy as np\n",
    "import pandas as pd"
   ]
  },
  {
   "cell_type": "code",
   "execution_count": null,
   "metadata": {},
   "outputs": [],
   "source": [
    "data = pd.read_csv(\"../part-numbering/600000-Pelvis/601000-Pelvis-Bones.csv\") \n",
    "num_of_rows=data.shape[0]"
   ]
  },
  {
   "cell_type": "code",
   "execution_count": null,
   "metadata": {},
   "outputs": [],
   "source": [
    "data.head()"
   ]
  },
  {
   "cell_type": "code",
   "execution_count": null,
   "metadata": {
    "scrolled": true
   },
   "outputs": [],
   "source": [
    "data"
   ]
  },
  {
   "cell_type": "code",
   "execution_count": null,
   "metadata": {},
   "outputs": [],
   "source": [
    "num_of_rows"
   ]
  },
  {
   "cell_type": "code",
   "execution_count": null,
   "metadata": {},
   "outputs": [],
   "source": [
    "dic = {}"
   ]
  },
  {
   "cell_type": "code",
   "execution_count": null,
   "metadata": {},
   "outputs": [],
   "source": [
    "pid = 0\n",
    "name = ''\n"
   ]
  },
  {
   "cell_type": "code",
   "execution_count": null,
   "metadata": {},
   "outputs": [],
   "source": [
    "dic = {}\n",
    "for n in range(num_of_rows):\n",
    "        if pd.notna(data.iloc[n,0]):\n",
    "            first = data.iloc[n,0]\n",
    "            body_region = str(data.iloc[n,6])\n",
    "            \n",
    "            second = []\n",
    "            third = []\n",
    "            fourth = []\n",
    "            fifth = []\n",
    "            sixth = []\n",
    "            \n",
    "            sagittal_aspect = []\n",
    "            third_name = []\n",
    "            fourth_name = []\n",
    "            fifth_name = []\n",
    "            sixth_name = []\n",
    "            continue\n",
    "            \n",
    "        if pd.notna(data.iloc[n,1]):\n",
    "            second.append(int(data.iloc[n,1]))\n",
    "            sagittal_aspect.append(str(data.iloc[n,6]))\n",
    "         #   print(second,sagittal_aspect)\n",
    "            continue\n",
    "            \n",
    "        if pd.notna(data.iloc[n,2]):\n",
    "            third.append(int(data.iloc[n,2]))\n",
    "            #if pd.notna(data.iloc[n,6]):\n",
    "            third_name.append(str(data.iloc[n,6]))\n",
    "            continue\n",
    "            \n",
    "#        if pd.notna(data.iloc[n,3]):\n",
    "#            fourth.append(int(data.iloc[n,3]))\n",
    "#            #if pd.notna(data.iloc[n,6]):\n",
    "#            fourth_name.append(str(data.iloc[n,6]))\n",
    "#            continue\n",
    "            \n",
    "        if pd.notna(data.iloc[n,4]):\n",
    "            fifth.append(int(data.iloc[n,4]))\n",
    "            #if pd.notna(data.iloc[n,6]):\n",
    "            fifth_name.append(str(data.iloc[n,6]))\n",
    "            continue\n",
    "            \n",
    "        if pd.notna(data.iloc[n,5]):\n",
    "            sixth.append(int(data.iloc[n,5]))\n",
    "            sixth_name.append(str(data.iloc[n,6]))\n",
    "            \n",
    "for s1,s2 in zip(second,sagittal_aspect):\n",
    "                for t1,t2 in zip(third,third_name):\n",
    "                    #for f1,f2 in zip(fourth,fourth_name):\n",
    "                        for fi1,fi2 in zip(fifth,fifth_name):\n",
    "                            for si1,si2 in zip(sixth,sixth_name):\n",
    "                                #if si1 == 0:\n",
    "                                    #print(s1,t1,f1,fi1,si1,s2,t2,f2,fi2,si2)\n",
    "                                    pid = int(first*10**5 + s1*10**4 + t1*10**3 + f1*10**2 + fi1*10 +si1)\n",
    "                                    \n",
    "                                    name = body_region + '-' + str(t2) + '-' + str(fi2) + '-' + str(si2) + '-' + str(s2)\n",
    "                                    dic[pid]= name\n",
    "                                    \n",
    "print (dic)\n",
    "                \n",
    "                \n",
    "          "
   ]
  },
  {
   "cell_type": "code",
   "execution_count": null,
   "metadata": {},
   "outputs": [],
   "source": [
    "dic"
   ]
  },
  {
   "cell_type": "code",
   "execution_count": null,
   "metadata": {},
   "outputs": [],
   "source": [
    "(pd.DataFrame.from_dict(data=dic, orient='index')\n",
    "   .to_csv('../part-numbering/600000-Pelvis/601000-Pelvis-Bones-PID.csv', header=False))"
   ]
  }
 ],
 "metadata": {
  "kernelspec": {
   "display_name": "Python 3",
   "language": "python",
   "name": "python3"
  },
  "language_info": {
   "codemirror_mode": {
    "name": "ipython",
    "version": 3
   },
   "file_extension": ".py",
   "mimetype": "text/x-python",
   "name": "python",
   "nbconvert_exporter": "python",
   "pygments_lexer": "ipython3",
   "version": "3.7.3"
  }
 },
 "nbformat": 4,
 "nbformat_minor": 2
}
